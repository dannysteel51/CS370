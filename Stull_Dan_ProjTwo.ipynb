{
 "cells": [
  {
   "cell_type": "markdown",
   "metadata": {},
   "source": [
    "# Treasure Hunt Game Notebook\n",
    "\n",
    "## Read and Review Your Starter Code\n",
    "The theme of this project is a popular treasure hunt game in which the player needs to find the treasure before the pirate does. While you will not be developing the entire game, you will write the part of the game that represents the intelligent agent, which is a pirate in this case. The pirate will try to find the optimal path to the treasure using deep Q-learning. \n",
    "\n",
    "You have been provided with two Python classes and this notebook to help you with this assignment. The first class, TreasureMaze.py, represents the environment, which includes a maze object defined as a matrix. The second class, GameExperience.py, stores the episodes – that is, all the states that come in between the initial state and the terminal state. This is later used by the agent for learning by experience, called \"exploration\". This notebook shows how to play a game. Your task is to complete the deep Q-learning implementation for which a skeleton implementation has been provided. The code blocs you will need to complete has #TODO as a header.\n",
    "\n",
    "First, read and review the next few code and instruction blocks to understand the code that you have been given."
   ]
  },
  {
   "cell_type": "code",
   "execution_count": 26,
   "metadata": {},
   "outputs": [],
   "source": [
    "from __future__ import print_function\n",
    "import os, sys, time, datetime, json, random\n",
    "import numpy as np\n",
    "from keras.models import Sequential\n",
    "from keras.layers.core import Dense, Activation\n",
    "from keras.optimizers import SGD , Adam, RMSprop\n",
    "from keras.layers.advanced_activations import PReLU\n",
    "import matplotlib.pyplot as plt\n",
    "from TreasureMaze import TreasureMaze\n",
    "from GameExperience import GameExperience\n",
    "%matplotlib inline"
   ]
  },
  {
   "cell_type": "markdown",
   "metadata": {},
   "source": [
    "The following code block contains an 8x8 matrix that will be used as a maze object:"
   ]
  },
  {
   "cell_type": "code",
   "execution_count": 28,
   "metadata": {},
   "outputs": [],
   "source": [
    "maze = np.array([\n",
    "    [ 1.,  0.,  1.,  1.,  1.,  1.,  1.,  1.],\n",
    "    [ 1.,  0.,  1.,  1.,  1.,  0.,  1.,  1.],\n",
    "    [ 1.,  1.,  1.,  1.,  0.,  1.,  0.,  1.],\n",
    "    [ 1.,  1.,  1.,  0.,  1.,  1.,  1.,  1.],\n",
    "    [ 1.,  1.,  0.,  1.,  1.,  1.,  1.,  1.],\n",
    "    [ 1.,  1.,  1.,  0.,  1.,  0.,  0.,  0.],\n",
    "    [ 1.,  1.,  1.,  0.,  1.,  1.,  1.,  1.],\n",
    "    [ 1.,  1.,  1.,  1.,  0.,  1.,  1.,  1.]\n",
    "])"
   ]
  },
  {
   "cell_type": "markdown",
   "metadata": {},
   "source": [
    "This helper function allows a visual representation of the maze object:"
   ]
  },
  {
   "cell_type": "code",
   "execution_count": 30,
   "metadata": {},
   "outputs": [],
   "source": [
    "def show(qmaze):\n",
    "    plt.grid('on')\n",
    "    nrows, ncols = qmaze.maze.shape\n",
    "    ax = plt.gca()\n",
    "    ax.set_xticks(np.arange(0.5, nrows, 1))\n",
    "    ax.set_yticks(np.arange(0.5, ncols, 1))\n",
    "    ax.set_xticklabels([])\n",
    "    ax.set_yticklabels([])\n",
    "    canvas = np.copy(qmaze.maze)\n",
    "    for row,col in qmaze.visited:\n",
    "        canvas[row,col] = 0.6\n",
    "    pirate_row, pirate_col, _ = qmaze.state\n",
    "    canvas[pirate_row, pirate_col] = 0.3   # pirate cell\n",
    "    canvas[nrows-1, ncols-1] = 0.9 # treasure cell\n",
    "    img = plt.imshow(canvas, interpolation='none', cmap='gray')\n",
    "    return img"
   ]
  },
  {
   "cell_type": "markdown",
   "metadata": {},
   "source": [
    "The pirate agent can move in four directions: left, right, up, and down. \n",
    "\n",
    "While the agent primarily learns by experience through exploitation, often, the agent can choose to explore the environment to find previously undiscovered paths. This is called \"exploration\" and is defined by epsilon. This value is typically a lower value such as 0.1, which means for every ten attempts, the agent will attempt to learn by experience nine times and will randomly explore a new path one time. You are encouraged to try various values for the exploration factor and see how the algorithm performs."
   ]
  },
  {
   "cell_type": "code",
   "execution_count": 32,
   "metadata": {},
   "outputs": [],
   "source": [
    "LEFT = 0\n",
    "UP = 1\n",
    "RIGHT = 2\n",
    "DOWN = 3\n",
    "\n",
    "\n",
    "# Exploration factor\n",
    "epsilon = 0.1\n",
    "\n",
    "# Actions dictionary\n",
    "actions_dict = {\n",
    "    LEFT: 'left',\n",
    "    UP: 'up',\n",
    "    RIGHT: 'right',\n",
    "    DOWN: 'down',\n",
    "}\n",
    "\n",
    "num_actions = len(actions_dict)\n"
   ]
  },
  {
   "cell_type": "markdown",
   "metadata": {},
   "source": [
    "The sample code block and output below show creating a maze object and performing one action (DOWN), which returns the reward. The resulting updated environment is visualized."
   ]
  },
  {
   "cell_type": "code",
   "execution_count": 34,
   "metadata": {},
   "outputs": [
    {
     "name": "stdout",
     "output_type": "stream",
     "text": [
      "reward= -0.04\n"
     ]
    },
    {
     "data": {
      "text/plain": [
       "<matplotlib.image.AxesImage at 0x280cb162f88>"
      ]
     },
     "execution_count": 34,
     "metadata": {},
     "output_type": "execute_result"
    },
    {
     "data": {
      "image/png": "[encoded data removed]",
      "text/plain": [
       "<Figure size 432x288 with 1 Axes>"
      ]
     },
     "metadata": {
      "needs_background": "light"
     },
     "output_type": "display_data"
    }
   ],
   "source": [
    "qmaze = TreasureMaze(maze)\n",
    "canvas, reward, game_over = qmaze.act(DOWN)\n",
    "print(\"reward=\", reward)\n",
    "show(qmaze)"
   ]
  },
  {
   "cell_type": "markdown",
   "metadata": {},
   "source": [
    "This function simulates a full game based on the provided trained model. The other parameters include the TreasureMaze object and the starting position of the pirate."
   ]
  },
  {
   "cell_type": "code",
   "execution_count": 36,
   "metadata": {},
   "outputs": [],
   "source": [
    "def play_game(model, qmaze, pirate_cell):\n",
    "    qmaze.reset(pirate_cell)\n",
    "    envstate = qmaze.observe()\n",
    "    while True:\n",
    "        prev_envstate = envstate\n",
    "        # get next action\n",
    "        q = model.predict(prev_envstate)\n",
    "        action = np.argmax(q[0])\n",
    "\n",
    "        # apply action, get rewards and new state\n",
    "        envstate, reward, game_status = qmaze.act(action)\n",
    "        if game_status == 'win':\n",
    "            return True\n",
    "        elif game_status == 'lose':\n",
    "            return False"
   ]
  },
  {
   "cell_type": "markdown",
   "metadata": {},
   "source": [
    "This function helps you to determine whether the pirate can win any game at all. If your maze is not well designed, the pirate may not win any game at all. In this case, your training would not yield any result. The provided maze in this notebook ensures that there is a path to win and you can run this method to check."
   ]
  },
  {
   "cell_type": "code",
   "execution_count": 38,
   "metadata": {},
   "outputs": [],
   "source": [
    "def completion_check(model, qmaze):\n",
    "    for cell in qmaze.free_cells:\n",
    "        if not qmaze.valid_actions(cell):\n",
    "            return False\n",
    "        if not play_game(model, qmaze, cell):\n",
    "            return False\n",
    "    return True"
   ]
  },
  {
   "cell_type": "markdown",
   "metadata": {},
   "source": [
    "The code you have been given in this block will build the neural network model. Review the code and note the number of layers, as well as the activation, optimizer, and loss functions that are used to train the model."
   ]
  },
  {
   "cell_type": "code",
   "execution_count": 40,
   "metadata": {},
   "outputs": [],
   "source": [
    "def build_model(maze):\n",
    "    model = Sequential()\n",
    "    model.add(Dense(maze.size, input_shape=(maze.size,)))\n",
    "    model.add(PReLU())\n",
    "    model.add(Dense(maze.size))\n",
    "    model.add(PReLU())\n",
    "    model.add(Dense(num_actions))\n",
    "    model.compile(optimizer='adam', loss='mse')\n",
    "    return model"
   ]
  },
  {
   "cell_type": "markdown",
   "metadata": {},
   "source": [
    "# #TODO: Complete the Q-Training Algorithm Code Block\n",
    "\n",
    "This is your deep Q-learning implementation. The goal of your deep Q-learning implementation is to find the best possible navigation sequence that results in reaching the treasure cell while maximizing the reward. In your implementation, you need to determine the optimal number of epochs to achieve a 100% win rate.\n",
    "\n",
    "You will need to complete the section starting with #pseudocode. The pseudocode has been included for you."
   ]
  },
  {
   "cell_type": "code",
   "execution_count": 42,
   "metadata": {},
   "outputs": [],
   "source": [
    "def qtrain(model, maze, **opt):\n",
    "\n",
    "    # exploration factor\n",
    "    global epsilon \n",
    "\n",
    "    # number of epochs\n",
    "    n_epoch = opt.get('n_epoch', 15000)\n",
    "\n",
    "    # maximum memory to store episodes\n",
    "    max_memory = opt.get('max_memory', 1000)\n",
    "\n",
    "    # maximum data size for training\n",
    "    data_size = opt.get('data_size', 50)\n",
    "\n",
    "    # start time\n",
    "    start_time = datetime.datetime.now()\n",
    "\n",
    "    # Construct environment/game from numpy array: maze (see above)\n",
    "    qmaze = TreasureMaze(maze)\n",
    "\n",
    "    # Initialize experience replay object\n",
    "    experience = GameExperience(model, max_memory=max_memory)\n",
    "    \n",
    "    win_history = []   # history of win/lose game\n",
    "    hsize = qmaze.maze.size//2   # history window size\n",
    "    win_rate = 0.0\n",
    "    \n",
    "    # For each epoch:\n",
    "    for epoch in range(n_epoch):\n",
    "        loss = 0.0       \n",
    "        # Agent_cell = randomly select a free cell\n",
    "        agent_cell = random.choice(qmaze.free_cells)\n",
    "        # Reset the maze with agent set to above position\n",
    "        qmaze.reset(agent_cell)\n",
    "        # envstate = Environment.current_state\n",
    "        envstate = qmaze.observe()\n",
    "        n_episodes = 0\n",
    "        \n",
    "        # While state is not game over:\n",
    "        while qmaze.game_status() == 'not_over':\n",
    "            valid_actions = qmaze.valid_actions()\n",
    "            if not valid_actions: break\n",
    "            # previous_envstate = envstate\n",
    "            previous_envstate = envstate\n",
    "        \n",
    "                # Get next random action\n",
    "            if np.random.rand() < epsilon:\n",
    "                action = random.choice(valid_actions)\n",
    "            else:\n",
    "                # Action = randomly choose action (left, right, up, down) either by exploration or by exploitation\n",
    "                action = np.argmax(experience.predict(previous_envstate))\n",
    "        \n",
    "            # envstate, reward, game_status = qmaze.act(action)\n",
    "            envstate, reward, game_status = qmaze.act(action)\n",
    "            \n",
    "            # Pirate won\n",
    "            if game_status == 'win':\n",
    "                win_history.append(1)\n",
    "                win_rate = sum(win_history) / len(win_history)\n",
    "                break\n",
    "            # Pirate lost\n",
    "            elif game_status == 'lose':\n",
    "                win_history.append(0)\n",
    "                win_rate = sum(win_history) / len(win_history)\n",
    "                break\n",
    "            # Continues game if pirate has not won or lost yet\n",
    "             # episode = [previous_envstate, action, reward, envstate, game_status]\n",
    "            episode = [previous_envstate, action, reward, envstate, game_status]\n",
    "            # Store episode in Experience replay object\n",
    "            experience.remember(episode)\n",
    "            # Increment the episode count \n",
    "            n_episodes += 1\n",
    "            \n",
    "            # Train neural network model and evaluate loss\n",
    "            inputs,targets = experience.get_data(data_size=data_size)\n",
    "            history = model.fit(inputs, targets, epochs=8, batch_size=16, verbose=0)\n",
    "            loss = model.evaluate(inputs, targets, verbose = 0)\n",
    "        \n",
    "        # If the win rate is above the threshold and your model passes the completion check, that would be your epoch.\n",
    "        if win_rate > epsilon:\n",
    "            print('Above threshold')\n",
    "            if completion_check(model, qmaze) == True:\n",
    "                print('Model passed')\n",
    "\n",
    "    #Print the epoch, loss, episodes, win count, and win rate for each epoch\n",
    "        dt = datetime.datetime.now() - start_time\n",
    "        t = format_time(dt.total_seconds())\n",
    "        template = \"Epoch: {:03d}/{:d} | Loss: {:.4f} | Episodes: {:d} | Win count: {:d} | Win rate: {:.3f} | time: {}\"\n",
    "        print(template.format(epoch, n_epoch-1, loss, n_episodes, sum(win_history), win_rate, t))\n",
    "        # We simply check if training has exhausted all free cells and if in all\n",
    "        # cases the agent won.\n",
    "        if win_rate > 0.9 : epsilon = 0.05\n",
    "        if sum(win_history[-hsize:]) == hsize and completion_check(model, qmaze):\n",
    "            print(\"Reached 100%% win rate at epoch: %d\" % (epoch,))\n",
    "            break\n",
    "    \n",
    "    \n",
    "    # Determine the total time for training\n",
    "    dt = datetime.datetime.now() - start_time\n",
    "    seconds = dt.total_seconds()\n",
    "    t = format_time(seconds)\n",
    "\n",
    "    print(\"n_epoch: %d, max_mem: %d, data: %d, time: %s\" % (epoch, max_memory, data_size, t))\n",
    "    return seconds\n",
    "\n",
    "# This is a small utility for printing readable time strings:\n",
    "def format_time(seconds):\n",
    "    if seconds < 400:\n",
    "        s = float(seconds)\n",
    "        return \"%.1f seconds\" % (s,)\n",
    "    elif seconds < 4000:\n",
    "        m = seconds / 60.0\n",
    "        return \"%.2f minutes\" % (m,)\n",
    "    else:\n",
    "        h = seconds / 3600.0\n",
    "        return \"%.2f hours\" % (h,)"
   ]
  },
  {
   "cell_type": "markdown",
   "metadata": {},
   "source": [
    "## Test Your Model\n",
    "\n",
    "Now we will start testing the deep Q-learning implementation. To begin, select **Cell**, then **Run All** from the menu bar. This will run your notebook. As it runs, you should see output begin to appear beneath the next few cells. The code below creates an instance of TreasureMaze."
   ]
  },
  {
   "cell_type": "code",
   "execution_count": 44,
   "metadata": {},
   "outputs": [
    {
     "data": {
      "text/plain": [
       "<matplotlib.image.AxesImage at 0x280cb5c4248>"
      ]
     },
     "execution_count": 44,
     "metadata": {},
     "output_type": "execute_result"
    },
    {
     "data": {
      "image/png": "[encoded data removed]",
      "text/plain": [
       "<Figure size 432x288 with 1 Axes>"
      ]
     },
     "metadata": {
      "needs_background": "light"
     },
     "output_type": "display_data"
    }
   ],
   "source": [
    "qmaze = TreasureMaze(maze)\n",
    "show(qmaze)"
   ]
  },
  {
   "cell_type": "markdown",
   "metadata": {},
   "source": [
    "In the next code block, you will build your model and train it using deep Q-learning. Note: This step takes several minutes to fully run."
   ]
  },
  {
   "cell_type": "code",
   "execution_count": 46,
   "metadata": {},
   "outputs": [
    {
     "name": "stdout",
     "output_type": "stream",
     "text": [
      "Epoch: 000/14999 | Loss: 0.0011 | Episodes: 141 | Win count: 0 | Win rate: 0.000 | time: 13.9 seconds\n",
      "Epoch: 001/14999 | Loss: 0.0007 | Episodes: 137 | Win count: 0 | Win rate: 0.000 | time: 28.8 seconds\n",
      "Epoch: 002/14999 | Loss: 0.0009 | Episodes: 148 | Win count: 0 | Win rate: 0.000 | time: 44.5 seconds\n",
      "Epoch: 003/14999 | Loss: 0.0004 | Episodes: 135 | Win count: 0 | Win rate: 0.000 | time: 59.0 seconds\n",
      "Epoch: 004/14999 | Loss: 0.0010 | Episodes: 149 | Win count: 0 | Win rate: 0.000 | time: 74.9 seconds\n",
      "Epoch: 005/14999 | Loss: 0.0005 | Episodes: 131 | Win count: 0 | Win rate: 0.000 | time: 89.0 seconds\n",
      "Epoch: 006/14999 | Loss: 0.0006 | Episodes: 136 | Win count: 0 | Win rate: 0.000 | time: 103.3 seconds\n",
      "Epoch: 007/14999 | Loss: 0.0001 | Episodes: 144 | Win count: 0 | Win rate: 0.000 | time: 118.6 seconds\n",
      "Epoch: 008/14999 | Loss: 0.0003 | Episodes: 138 | Win count: 0 | Win rate: 0.000 | time: 132.9 seconds\n",
      "Epoch: 009/14999 | Loss: 0.0004 | Episodes: 143 | Win count: 0 | Win rate: 0.000 | time: 148.5 seconds\n",
      "Epoch: 010/14999 | Loss: 0.0004 | Episodes: 133 | Win count: 0 | Win rate: 0.000 | time: 162.6 seconds\n",
      "Epoch: 011/14999 | Loss: 0.0006 | Episodes: 135 | Win count: 0 | Win rate: 0.000 | time: 176.9 seconds\n",
      "Epoch: 012/14999 | Loss: 0.0001 | Episodes: 144 | Win count: 0 | Win rate: 0.000 | time: 192.2 seconds\n",
      "Epoch: 013/14999 | Loss: 0.0004 | Episodes: 133 | Win count: 0 | Win rate: 0.000 | time: 206.1 seconds\n",
      "Epoch: 014/14999 | Loss: 0.0002 | Episodes: 138 | Win count: 0 | Win rate: 0.000 | time: 221.1 seconds\n",
      "Epoch: 015/14999 | Loss: 0.0006 | Episodes: 137 | Win count: 0 | Win rate: 0.000 | time: 235.7 seconds\n",
      "Epoch: 016/14999 | Loss: 0.0005 | Episodes: 143 | Win count: 0 | Win rate: 0.000 | time: 251.3 seconds\n",
      "Epoch: 017/14999 | Loss: 0.0008 | Episodes: 149 | Win count: 0 | Win rate: 0.000 | time: 267.3 seconds\n",
      "Epoch: 018/14999 | Loss: 0.0004 | Episodes: 143 | Win count: 0 | Win rate: 0.000 | time: 282.7 seconds\n",
      "Epoch: 019/14999 | Loss: 0.0003 | Episodes: 130 | Win count: 0 | Win rate: 0.000 | time: 296.7 seconds\n",
      "Epoch: 020/14999 | Loss: 0.0003 | Episodes: 135 | Win count: 0 | Win rate: 0.000 | time: 311.1 seconds\n",
      "Epoch: 021/14999 | Loss: 0.0003 | Episodes: 146 | Win count: 0 | Win rate: 0.000 | time: 326.7 seconds\n",
      "Epoch: 022/14999 | Loss: 0.0007 | Episodes: 136 | Win count: 0 | Win rate: 0.000 | time: 341.2 seconds\n",
      "Epoch: 023/14999 | Loss: 0.0009 | Episodes: 143 | Win count: 0 | Win rate: 0.000 | time: 357.0 seconds\n",
      "Epoch: 024/14999 | Loss: 0.0008 | Episodes: 1 | Win count: 1 | Win rate: 0.040 | time: 357.1 seconds\n",
      "Epoch: 025/14999 | Loss: 0.0006 | Episodes: 142 | Win count: 1 | Win rate: 0.038 | time: 372.4 seconds\n",
      "Epoch: 026/14999 | Loss: 0.0010 | Episodes: 147 | Win count: 1 | Win rate: 0.037 | time: 388.1 seconds\n",
      "Epoch: 027/14999 | Loss: 0.0013 | Episodes: 140 | Win count: 1 | Win rate: 0.036 | time: 6.71 minutes\n",
      "Epoch: 028/14999 | Loss: 0.0009 | Episodes: 75 | Win count: 2 | Win rate: 0.069 | time: 6.85 minutes\n",
      "Epoch: 029/14999 | Loss: 0.0010 | Episodes: 145 | Win count: 2 | Win rate: 0.067 | time: 7.11 minutes\n",
      "Epoch: 030/14999 | Loss: 0.0013 | Episodes: 150 | Win count: 2 | Win rate: 0.065 | time: 7.38 minutes\n",
      "Epoch: 031/14999 | Loss: 0.0014 | Episodes: 149 | Win count: 2 | Win rate: 0.062 | time: 7.65 minutes\n",
      "Epoch: 032/14999 | Loss: 0.0011 | Episodes: 142 | Win count: 2 | Win rate: 0.061 | time: 7.91 minutes\n",
      "Epoch: 033/14999 | Loss: 0.0009 | Episodes: 148 | Win count: 2 | Win rate: 0.059 | time: 8.17 minutes\n",
      "Epoch: 034/14999 | Loss: 0.0007 | Episodes: 153 | Win count: 2 | Win rate: 0.057 | time: 8.45 minutes\n",
      "Epoch: 035/14999 | Loss: 0.0008 | Episodes: 145 | Win count: 2 | Win rate: 0.056 | time: 8.71 minutes\n",
      "Epoch: 036/14999 | Loss: 0.0011 | Episodes: 138 | Win count: 2 | Win rate: 0.054 | time: 8.96 minutes\n",
      "Epoch: 037/14999 | Loss: 0.0004 | Episodes: 142 | Win count: 2 | Win rate: 0.053 | time: 9.22 minutes\n",
      "Epoch: 038/14999 | Loss: 0.0005 | Episodes: 110 | Win count: 3 | Win rate: 0.077 | time: 9.42 minutes\n",
      "Epoch: 039/14999 | Loss: 0.0014 | Episodes: 75 | Win count: 4 | Win rate: 0.100 | time: 9.55 minutes\n",
      "Epoch: 040/14999 | Loss: 0.0009 | Episodes: 137 | Win count: 4 | Win rate: 0.098 | time: 9.79 minutes\n",
      "Epoch: 041/14999 | Loss: 0.0010 | Episodes: 142 | Win count: 4 | Win rate: 0.095 | time: 10.05 minutes\n",
      "Epoch: 042/14999 | Loss: 0.0005 | Episodes: 146 | Win count: 4 | Win rate: 0.093 | time: 10.32 minutes\n",
      "Epoch: 043/14999 | Loss: 0.0002 | Episodes: 148 | Win count: 4 | Win rate: 0.091 | time: 10.57 minutes\n",
      "Epoch: 044/14999 | Loss: 0.0005 | Episodes: 151 | Win count: 4 | Win rate: 0.089 | time: 10.84 minutes\n",
      "Epoch: 045/14999 | Loss: 0.0003 | Episodes: 149 | Win count: 4 | Win rate: 0.087 | time: 11.10 minutes\n",
      "Epoch: 046/14999 | Loss: 0.0006 | Episodes: 152 | Win count: 4 | Win rate: 0.085 | time: 11.37 minutes\n",
      "Epoch: 047/14999 | Loss: 0.0007 | Episodes: 152 | Win count: 4 | Win rate: 0.083 | time: 11.64 minutes\n",
      "Epoch: 048/14999 | Loss: 0.0002 | Episodes: 150 | Win count: 4 | Win rate: 0.082 | time: 11.91 minutes\n",
      "Epoch: 049/14999 | Loss: 0.0005 | Episodes: 142 | Win count: 4 | Win rate: 0.080 | time: 12.16 minutes\n",
      "Epoch: 050/14999 | Loss: 0.0010 | Episodes: 138 | Win count: 4 | Win rate: 0.078 | time: 12.40 minutes\n",
      "Epoch: 051/14999 | Loss: 0.0011 | Episodes: 154 | Win count: 4 | Win rate: 0.077 | time: 12.68 minutes\n",
      "Epoch: 052/14999 | Loss: 0.0014 | Episodes: 149 | Win count: 4 | Win rate: 0.075 | time: 12.95 minutes\n",
      "Epoch: 053/14999 | Loss: 0.0007 | Episodes: 138 | Win count: 4 | Win rate: 0.074 | time: 13.19 minutes\n",
      "Epoch: 054/14999 | Loss: 0.0009 | Episodes: 142 | Win count: 4 | Win rate: 0.073 | time: 13.45 minutes\n",
      "Epoch: 055/14999 | Loss: 0.0006 | Episodes: 7 | Win count: 5 | Win rate: 0.089 | time: 13.46 minutes\n",
      "Win rate above threshold\n",
      "Epoch: 056/14999 | Loss: 0.0003 | Episodes: 26 | Win count: 6 | Win rate: 0.105 | time: 13.51 minutes\n",
      "Win rate above threshold\n",
      "Epoch: 057/14999 | Loss: 0.0013 | Episodes: 155 | Win count: 6 | Win rate: 0.103 | time: 13.78 minutes\n",
      "Win rate above threshold\n",
      "Epoch: 058/14999 | Loss: 0.0006 | Episodes: 146 | Win count: 6 | Win rate: 0.102 | time: 14.04 minutes\n",
      "Epoch: 059/14999 | Loss: 0.0013 | Episodes: 144 | Win count: 6 | Win rate: 0.100 | time: 14.30 minutes\n",
      "Epoch: 060/14999 | Loss: 0.0007 | Episodes: 142 | Win count: 6 | Win rate: 0.098 | time: 14.55 minutes\n",
      "Epoch: 061/14999 | Loss: 0.0009 | Episodes: 142 | Win count: 6 | Win rate: 0.097 | time: 14.81 minutes\n",
      "Epoch: 062/14999 | Loss: 0.0009 | Episodes: 146 | Win count: 6 | Win rate: 0.095 | time: 15.07 minutes\n",
      "Epoch: 063/14999 | Loss: 0.0011 | Episodes: 153 | Win count: 6 | Win rate: 0.094 | time: 15.34 minutes\n",
      "Win rate above threshold\n",
      "Epoch: 064/14999 | Loss: 0.0015 | Episodes: 4 | Win count: 7 | Win rate: 0.108 | time: 15.35 minutes\n",
      "Win rate above threshold\n",
      "Epoch: 065/14999 | Loss: 0.0014 | Episodes: 143 | Win count: 7 | Win rate: 0.106 | time: 15.61 minutes\n",
      "Win rate above threshold\n",
      "Epoch: 066/14999 | Loss: 0.0003 | Episodes: 140 | Win count: 8 | Win rate: 0.119 | time: 15.87 minutes\n",
      "Win rate above threshold\n",
      "Epoch: 067/14999 | Loss: 0.0006 | Episodes: 28 | Win count: 9 | Win rate: 0.132 | time: 15.93 minutes\n",
      "Win rate above threshold\n",
      "Epoch: 068/14999 | Loss: 0.0006 | Episodes: 5 | Win count: 10 | Win rate: 0.145 | time: 15.94 minutes\n",
      "Win rate above threshold\n",
      "Epoch: 069/14999 | Loss: 0.0005 | Episodes: 32 | Win count: 11 | Win rate: 0.157 | time: 16.00 minutes\n",
      "Win rate above threshold\n",
      "Epoch: 070/14999 | Loss: 0.0005 | Episodes: 159 | Win count: 11 | Win rate: 0.155 | time: 16.28 minutes\n",
      "Win rate above threshold\n",
      "Epoch: 071/14999 | Loss: 0.0005 | Episodes: 18 | Win count: 12 | Win rate: 0.167 | time: 16.31 minutes\n",
      "Win rate above threshold\n",
      "Epoch: 072/14999 | Loss: 0.0008 | Episodes: 146 | Win count: 13 | Win rate: 0.178 | time: 16.57 minutes\n",
      "Win rate above threshold\n",
      "Epoch: 073/14999 | Loss: 0.0015 | Episodes: 113 | Win count: 14 | Win rate: 0.189 | time: 16.77 minutes\n",
      "Win rate above threshold\n",
      "Epoch: 074/14999 | Loss: 0.0011 | Episodes: 100 | Win count: 15 | Win rate: 0.200 | time: 16.95 minutes\n",
      "Win rate above threshold\n",
      "Epoch: 075/14999 | Loss: 0.0012 | Episodes: 32 | Win count: 16 | Win rate: 0.211 | time: 17.01 minutes\n",
      "Win rate above threshold\n",
      "Epoch: 076/14999 | Loss: 0.0011 | Episodes: 12 | Win count: 17 | Win rate: 0.221 | time: 17.04 minutes\n",
      "Win rate above threshold\n",
      "Epoch: 077/14999 | Loss: 0.0011 | Episodes: 97 | Win count: 18 | Win rate: 0.231 | time: 17.21 minutes\n",
      "Win rate above threshold\n",
      "Epoch: 078/14999 | Loss: 0.0006 | Episodes: 48 | Win count: 19 | Win rate: 0.241 | time: 17.30 minutes\n",
      "Win rate above threshold\n",
      "Epoch: 079/14999 | Loss: 0.0012 | Episodes: 22 | Win count: 20 | Win rate: 0.250 | time: 17.35 minutes\n",
      "Win rate above threshold\n",
      "Epoch: 080/14999 | Loss: 0.0006 | Episodes: 18 | Win count: 21 | Win rate: 0.259 | time: 17.38 minutes\n",
      "Win rate above threshold\n",
      "Epoch: 081/14999 | Loss: 0.0009 | Episodes: 21 | Win count: 22 | Win rate: 0.268 | time: 17.42 minutes\n",
      "Win rate above threshold\n",
      "Epoch: 082/14999 | Loss: 0.0010 | Episodes: 33 | Win count: 23 | Win rate: 0.277 | time: 17.48 minutes\n",
      "Win rate above threshold\n",
      "Epoch: 083/14999 | Loss: 0.0000 | Episodes: 0 | Win count: 24 | Win rate: 0.286 | time: 17.48 minutes\n",
      "Win rate above threshold\n",
      "Epoch: 084/14999 | Loss: 0.0010 | Episodes: 43 | Win count: 25 | Win rate: 0.294 | time: 17.56 minutes\n",
      "Win rate above threshold\n",
      "Epoch: 085/14999 | Loss: 0.0011 | Episodes: 27 | Win count: 26 | Win rate: 0.302 | time: 17.61 minutes\n",
      "Win rate above threshold\n",
      "Epoch: 086/14999 | Loss: 0.0011 | Episodes: 25 | Win count: 27 | Win rate: 0.310 | time: 17.65 minutes\n",
      "Win rate above threshold\n",
      "Epoch: 087/14999 | Loss: 0.0008 | Episodes: 21 | Win count: 28 | Win rate: 0.318 | time: 17.70 minutes\n",
      "Win rate above threshold\n",
      "Epoch: 088/14999 | Loss: 0.0003 | Episodes: 29 | Win count: 29 | Win rate: 0.326 | time: 17.75 minutes\n",
      "Win rate above threshold\n",
      "Epoch: 089/14999 | Loss: 0.0012 | Episodes: 15 | Win count: 30 | Win rate: 0.333 | time: 17.78 minutes\n",
      "Win rate above threshold\n",
      "Epoch: 090/14999 | Loss: 0.0008 | Episodes: 20 | Win count: 31 | Win rate: 0.341 | time: 17.81 minutes\n",
      "Win rate above threshold\n",
      "Epoch: 091/14999 | Loss: 0.0010 | Episodes: 19 | Win count: 32 | Win rate: 0.348 | time: 17.85 minutes\n",
      "Win rate above threshold\n",
      "Epoch: 092/14999 | Loss: 0.0010 | Episodes: 29 | Win count: 33 | Win rate: 0.355 | time: 17.91 minutes\n",
      "Win rate above threshold\n",
      "Epoch: 093/14999 | Loss: 0.0004 | Episodes: 1 | Win count: 34 | Win rate: 0.362 | time: 17.91 minutes\n",
      "Win rate above threshold\n",
      "Epoch: 094/14999 | Loss: 0.0007 | Episodes: 4 | Win count: 35 | Win rate: 0.368 | time: 17.92 minutes\n",
      "Win rate above threshold\n",
      "Epoch: 095/14999 | Loss: 0.0008 | Episodes: 44 | Win count: 36 | Win rate: 0.375 | time: 18.00 minutes\n",
      "Win rate above threshold\n",
      "Epoch: 096/14999 | Loss: 0.0017 | Episodes: 32 | Win count: 37 | Win rate: 0.381 | time: 18.06 minutes\n",
      "Win rate above threshold\n",
      "Epoch: 097/14999 | Loss: 0.0009 | Episodes: 62 | Win count: 38 | Win rate: 0.388 | time: 18.18 minutes\n",
      "Win rate above threshold\n",
      "Epoch: 098/14999 | Loss: 0.0008 | Episodes: 10 | Win count: 39 | Win rate: 0.394 | time: 18.20 minutes\n",
      "Win rate above threshold\n",
      "Epoch: 099/14999 | Loss: 0.0010 | Episodes: 3 | Win count: 40 | Win rate: 0.400 | time: 18.21 minutes\n",
      "Win rate above threshold\n",
      "Epoch: 100/14999 | Loss: 0.0002 | Episodes: 36 | Win count: 41 | Win rate: 0.406 | time: 18.28 minutes\n",
      "Win rate above threshold\n",
      "Epoch: 101/14999 | Loss: 0.0006 | Episodes: 10 | Win count: 42 | Win rate: 0.412 | time: 18.30 minutes\n",
      "Win rate above threshold\n",
      "Epoch: 102/14999 | Loss: 0.0009 | Episodes: 32 | Win count: 43 | Win rate: 0.417 | time: 18.36 minutes\n",
      "Win rate above threshold\n",
      "Epoch: 103/14999 | Loss: 0.0019 | Episodes: 30 | Win count: 44 | Win rate: 0.423 | time: 18.41 minutes\n",
      "Win rate above threshold\n",
      "Epoch: 104/14999 | Loss: 0.0007 | Episodes: 33 | Win count: 45 | Win rate: 0.429 | time: 18.47 minutes\n",
      "Win rate above threshold\n",
      "Epoch: 105/14999 | Loss: 0.0014 | Episodes: 50 | Win count: 46 | Win rate: 0.434 | time: 18.56 minutes\n",
      "Win rate above threshold\n",
      "Epoch: 106/14999 | Loss: 0.0007 | Episodes: 48 | Win count: 47 | Win rate: 0.439 | time: 18.65 minutes\n",
      "Win rate above threshold\n",
      "Epoch: 107/14999 | Loss: 0.0012 | Episodes: 35 | Win count: 48 | Win rate: 0.444 | time: 18.72 minutes\n",
      "Win rate above threshold\n",
      "Epoch: 108/14999 | Loss: 0.0010 | Episodes: 10 | Win count: 49 | Win rate: 0.450 | time: 18.74 minutes\n",
      "Win rate above threshold\n",
      "Epoch: 109/14999 | Loss: 0.0010 | Episodes: 18 | Win count: 50 | Win rate: 0.455 | time: 18.78 minutes\n",
      "Win rate above threshold\n",
      "Epoch: 110/14999 | Loss: 0.0007 | Episodes: 9 | Win count: 51 | Win rate: 0.459 | time: 18.80 minutes\n",
      "Win rate above threshold\n",
      "Epoch: 111/14999 | Loss: 0.0006 | Episodes: 64 | Win count: 52 | Win rate: 0.464 | time: 18.92 minutes\n",
      "Win rate above threshold\n",
      "Epoch: 112/14999 | Loss: 0.0007 | Episodes: 22 | Win count: 53 | Win rate: 0.469 | time: 18.96 minutes\n",
      "Win rate above threshold\n",
      "Epoch: 113/14999 | Loss: 0.0008 | Episodes: 11 | Win count: 54 | Win rate: 0.474 | time: 18.99 minutes\n",
      "Win rate above threshold\n",
      "Epoch: 114/14999 | Loss: 0.0009 | Episodes: 57 | Win count: 55 | Win rate: 0.478 | time: 19.10 minutes\n",
      "Win rate above threshold\n",
      "Epoch: 115/14999 | Loss: 0.0007 | Episodes: 15 | Win count: 56 | Win rate: 0.483 | time: 19.13 minutes\n",
      "Win rate above threshold\n",
      "Epoch: 116/14999 | Loss: 0.0011 | Episodes: 77 | Win count: 57 | Win rate: 0.487 | time: 19.28 minutes\n",
      "Win rate above threshold\n",
      "Epoch: 117/14999 | Loss: 0.0000 | Episodes: 0 | Win count: 58 | Win rate: 0.492 | time: 19.28 minutes\n",
      "Win rate above threshold\n",
      "Epoch: 118/14999 | Loss: 0.0007 | Episodes: 45 | Win count: 59 | Win rate: 0.496 | time: 19.36 minutes\n",
      "Win rate above threshold\n",
      "Epoch: 119/14999 | Loss: 0.0009 | Episodes: 7 | Win count: 60 | Win rate: 0.500 | time: 19.38 minutes\n",
      "Win rate above threshold\n",
      "Epoch: 120/14999 | Loss: 0.0007 | Episodes: 62 | Win count: 61 | Win rate: 0.504 | time: 19.49 minutes\n",
      "Win rate above threshold\n",
      "Epoch: 121/14999 | Loss: 0.0011 | Episodes: 47 | Win count: 62 | Win rate: 0.508 | time: 19.58 minutes\n",
      "Win rate above threshold\n",
      "Epoch: 122/14999 | Loss: 0.0002 | Episodes: 51 | Win count: 63 | Win rate: 0.512 | time: 19.67 minutes\n",
      "Win rate above threshold\n",
      "Epoch: 123/14999 | Loss: 0.0014 | Episodes: 16 | Win count: 64 | Win rate: 0.516 | time: 19.70 minutes\n",
      "Win rate above threshold\n",
      "Epoch: 124/14999 | Loss: 0.0009 | Episodes: 50 | Win count: 65 | Win rate: 0.520 | time: 19.80 minutes\n",
      "Win rate above threshold\n",
      "Epoch: 125/14999 | Loss: 0.0014 | Episodes: 14 | Win count: 66 | Win rate: 0.524 | time: 19.83 minutes\n",
      "Win rate above threshold\n",
      "Epoch: 126/14999 | Loss: 0.0007 | Episodes: 34 | Win count: 67 | Win rate: 0.528 | time: 19.89 minutes\n",
      "Win rate above threshold\n",
      "Epoch: 127/14999 | Loss: 0.0013 | Episodes: 21 | Win count: 68 | Win rate: 0.531 | time: 19.94 minutes\n",
      "Win rate above threshold\n",
      "Epoch: 128/14999 | Loss: 0.0013 | Episodes: 12 | Win count: 69 | Win rate: 0.535 | time: 19.97 minutes\n",
      "Win rate above threshold\n",
      "Epoch: 129/14999 | Loss: 0.0016 | Episodes: 10 | Win count: 70 | Win rate: 0.538 | time: 19.99 minutes\n",
      "Win rate above threshold\n",
      "Epoch: 130/14999 | Loss: 0.0017 | Episodes: 22 | Win count: 71 | Win rate: 0.542 | time: 20.03 minutes\n",
      "Win rate above threshold\n",
      "Epoch: 131/14999 | Loss: 0.0000 | Episodes: 0 | Win count: 72 | Win rate: 0.545 | time: 20.04 minutes\n",
      "Win rate above threshold\n",
      "Epoch: 132/14999 | Loss: 0.0011 | Episodes: 22 | Win count: 73 | Win rate: 0.549 | time: 20.08 minutes\n",
      "Win rate above threshold\n",
      "Epoch: 133/14999 | Loss: 0.0009 | Episodes: 15 | Win count: 74 | Win rate: 0.552 | time: 20.11 minutes\n",
      "Win rate above threshold\n",
      "Epoch: 134/14999 | Loss: 0.0008 | Episodes: 13 | Win count: 75 | Win rate: 0.556 | time: 20.15 minutes\n",
      "Win rate above threshold\n",
      "Epoch: 135/14999 | Loss: 0.0010 | Episodes: 9 | Win count: 76 | Win rate: 0.559 | time: 20.17 minutes\n",
      "Win rate above threshold\n",
      "Epoch: 136/14999 | Loss: 0.0006 | Episodes: 32 | Win count: 77 | Win rate: 0.562 | time: 20.22 minutes\n",
      "Win rate above threshold\n",
      "Epoch: 137/14999 | Loss: 0.0005 | Episodes: 14 | Win count: 78 | Win rate: 0.565 | time: 20.25 minutes\n",
      "Win rate above threshold\n",
      "Epoch: 138/14999 | Loss: 0.0013 | Episodes: 25 | Win count: 79 | Win rate: 0.568 | time: 20.30 minutes\n",
      "Win rate above threshold\n",
      "Epoch: 139/14999 | Loss: 0.0008 | Episodes: 25 | Win count: 80 | Win rate: 0.571 | time: 20.34 minutes\n",
      "Win rate above threshold\n",
      "Epoch: 140/14999 | Loss: 0.0004 | Episodes: 35 | Win count: 81 | Win rate: 0.574 | time: 20.41 minutes\n",
      "Win rate above threshold\n",
      "Epoch: 141/14999 | Loss: 0.0007 | Episodes: 18 | Win count: 82 | Win rate: 0.577 | time: 20.45 minutes\n",
      "Win rate above threshold\n",
      "Epoch: 142/14999 | Loss: 0.0005 | Episodes: 4 | Win count: 83 | Win rate: 0.580 | time: 20.46 minutes\n",
      "Win rate above threshold\n",
      "Epoch: 143/14999 | Loss: 0.0002 | Episodes: 2 | Win count: 84 | Win rate: 0.583 | time: 20.47 minutes\n",
      "Win rate above threshold\n",
      "Epoch: 144/14999 | Loss: 0.0010 | Episodes: 24 | Win count: 85 | Win rate: 0.586 | time: 20.52 minutes\n",
      "Win rate above threshold\n",
      "Epoch: 145/14999 | Loss: 0.0003 | Episodes: 8 | Win count: 86 | Win rate: 0.589 | time: 20.54 minutes\n",
      "Win rate above threshold\n",
      "Epoch: 146/14999 | Loss: 0.0004 | Episodes: 31 | Win count: 87 | Win rate: 0.592 | time: 20.60 minutes\n",
      "Win rate above threshold\n",
      "Epoch: 147/14999 | Loss: 0.0006 | Episodes: 25 | Win count: 88 | Win rate: 0.595 | time: 20.65 minutes\n",
      "Win rate above threshold\n",
      "Epoch: 148/14999 | Loss: 0.0003 | Episodes: 35 | Win count: 89 | Win rate: 0.597 | time: 20.71 minutes\n",
      "Win rate above threshold\n",
      "Epoch: 149/14999 | Loss: 0.0010 | Episodes: 9 | Win count: 90 | Win rate: 0.600 | time: 20.73 minutes\n",
      "Win rate above threshold\n",
      "Epoch: 150/14999 | Loss: 0.0002 | Episodes: 9 | Win count: 91 | Win rate: 0.603 | time: 20.75 minutes\n",
      "Win rate above threshold\n",
      "Epoch: 151/14999 | Loss: 0.0002 | Episodes: 15 | Win count: 92 | Win rate: 0.605 | time: 20.78 minutes\n",
      "Win rate above threshold\n",
      "Epoch: 152/14999 | Loss: 0.0003 | Episodes: 60 | Win count: 93 | Win rate: 0.608 | time: 20.88 minutes\n",
      "Win rate above threshold\n",
      "Epoch: 153/14999 | Loss: 0.0012 | Episodes: 71 | Win count: 94 | Win rate: 0.610 | time: 21.01 minutes\n",
      "Win rate above threshold\n",
      "Epoch: 154/14999 | Loss: 0.0005 | Episodes: 14 | Win count: 95 | Win rate: 0.613 | time: 21.04 minutes\n",
      "Win rate above threshold\n",
      "Epoch: 155/14999 | Loss: 0.0004 | Episodes: 9 | Win count: 96 | Win rate: 0.615 | time: 21.06 minutes\n",
      "Win rate above threshold\n",
      "Epoch: 156/14999 | Loss: 0.0001 | Episodes: 10 | Win count: 97 | Win rate: 0.618 | time: 21.09 minutes\n",
      "Win rate above threshold\n",
      "Epoch: 157/14999 | Loss: 0.0008 | Episodes: 16 | Win count: 98 | Win rate: 0.620 | time: 21.12 minutes\n",
      "Win rate above threshold\n",
      "Epoch: 158/14999 | Loss: 0.0008 | Episodes: 10 | Win count: 99 | Win rate: 0.623 | time: 21.14 minutes\n",
      "Win rate above threshold\n",
      "Epoch: 159/14999 | Loss: 0.0006 | Episodes: 30 | Win count: 100 | Win rate: 0.625 | time: 21.21 minutes\n",
      "Win rate above threshold\n",
      "Epoch: 160/14999 | Loss: 0.0004 | Episodes: 9 | Win count: 101 | Win rate: 0.627 | time: 21.23 minutes\n",
      "Win rate above threshold\n",
      "Epoch: 161/14999 | Loss: 0.0006 | Episodes: 27 | Win count: 102 | Win rate: 0.630 | time: 21.28 minutes\n",
      "Win rate above threshold\n",
      "Epoch: 162/14999 | Loss: 0.0005 | Episodes: 8 | Win count: 103 | Win rate: 0.632 | time: 21.29 minutes\n",
      "Win rate above threshold\n",
      "Epoch: 163/14999 | Loss: 0.0006 | Episodes: 9 | Win count: 104 | Win rate: 0.634 | time: 21.31 minutes\n",
      "Win rate above threshold\n",
      "Epoch: 164/14999 | Loss: 0.0007 | Episodes: 7 | Win count: 105 | Win rate: 0.636 | time: 21.33 minutes\n",
      "Win rate above threshold\n",
      "Epoch: 165/14999 | Loss: 0.0008 | Episodes: 23 | Win count: 106 | Win rate: 0.639 | time: 21.37 minutes\n",
      "Win rate above threshold\n",
      "Epoch: 166/14999 | Loss: 0.0004 | Episodes: 14 | Win count: 107 | Win rate: 0.641 | time: 21.41 minutes\n",
      "Win rate above threshold\n",
      "Epoch: 167/14999 | Loss: 0.0009 | Episodes: 23 | Win count: 108 | Win rate: 0.643 | time: 21.46 minutes\n",
      "Win rate above threshold\n",
      "Epoch: 168/14999 | Loss: 0.0006 | Episodes: 27 | Win count: 109 | Win rate: 0.645 | time: 21.52 minutes\n",
      "Win rate above threshold\n",
      "Epoch: 169/14999 | Loss: 0.0004 | Episodes: 5 | Win count: 110 | Win rate: 0.647 | time: 21.54 minutes\n",
      "Win rate above threshold\n",
      "Epoch: 170/14999 | Loss: 0.0008 | Episodes: 2 | Win count: 111 | Win rate: 0.649 | time: 21.55 minutes\n",
      "Win rate above threshold\n",
      "Epoch: 171/14999 | Loss: 0.0002 | Episodes: 32 | Win count: 112 | Win rate: 0.651 | time: 21.61 minutes\n",
      "Win rate above threshold\n",
      "Epoch: 172/14999 | Loss: 0.0011 | Episodes: 20 | Win count: 113 | Win rate: 0.653 | time: 21.65 minutes\n",
      "Win rate above threshold\n",
      "Epoch: 173/14999 | Loss: 0.0008 | Episodes: 22 | Win count: 114 | Win rate: 0.655 | time: 21.69 minutes\n",
      "Win rate above threshold\n",
      "Epoch: 174/14999 | Loss: 0.0008 | Episodes: 40 | Win count: 115 | Win rate: 0.657 | time: 21.77 minutes\n",
      "Win rate above threshold\n",
      "Epoch: 175/14999 | Loss: 0.0010 | Episodes: 16 | Win count: 116 | Win rate: 0.659 | time: 21.81 minutes\n",
      "Win rate above threshold\n",
      "Epoch: 176/14999 | Loss: 0.0005 | Episodes: 30 | Win count: 117 | Win rate: 0.661 | time: 21.87 minutes\n",
      "Win rate above threshold\n",
      "Epoch: 177/14999 | Loss: 0.0006 | Episodes: 8 | Win count: 118 | Win rate: 0.663 | time: 21.89 minutes\n",
      "Win rate above threshold\n",
      "Epoch: 178/14999 | Loss: 0.0003 | Episodes: 14 | Win count: 119 | Win rate: 0.665 | time: 21.92 minutes\n",
      "Win rate above threshold\n",
      "Epoch: 179/14999 | Loss: 0.0008 | Episodes: 30 | Win count: 120 | Win rate: 0.667 | time: 21.98 minutes\n",
      "Win rate above threshold\n",
      "Epoch: 180/14999 | Loss: 0.0006 | Episodes: 19 | Win count: 121 | Win rate: 0.669 | time: 22.01 minutes\n",
      "Win rate above threshold\n",
      "Epoch: 181/14999 | Loss: 0.0000 | Episodes: 0 | Win count: 122 | Win rate: 0.670 | time: 22.02 minutes\n",
      "Win rate above threshold\n",
      "Epoch: 182/14999 | Loss: 0.0001 | Episodes: 24 | Win count: 123 | Win rate: 0.672 | time: 22.06 minutes\n",
      "Win rate above threshold\n",
      "Epoch: 183/14999 | Loss: 0.0006 | Episodes: 18 | Win count: 124 | Win rate: 0.674 | time: 22.10 minutes\n",
      "Win rate above threshold\n",
      "Epoch: 184/14999 | Loss: 0.0003 | Episodes: 23 | Win count: 125 | Win rate: 0.676 | time: 22.14 minutes\n",
      "Win rate above threshold\n",
      "Epoch: 185/14999 | Loss: 0.0007 | Episodes: 31 | Win count: 126 | Win rate: 0.677 | time: 22.20 minutes\n",
      "Win rate above threshold\n",
      "Epoch: 186/14999 | Loss: 0.0009 | Episodes: 27 | Win count: 127 | Win rate: 0.679 | time: 22.25 minutes\n",
      "Win rate above threshold\n",
      "Epoch: 187/14999 | Loss: 0.0004 | Episodes: 35 | Win count: 128 | Win rate: 0.681 | time: 22.31 minutes\n",
      "Win rate above threshold\n",
      "Epoch: 188/14999 | Loss: 0.0012 | Episodes: 17 | Win count: 129 | Win rate: 0.683 | time: 22.35 minutes\n",
      "Win rate above threshold\n",
      "Model passed completion check\n",
      "Epoch: 189/14999 | Loss: 0.0005 | Episodes: 17 | Win count: 130 | Win rate: 0.684 | time: 22.39 minutes\n",
      "Reached 100% win rate at epoch: 189\n",
      "n_epoch: 189, max_mem: 512, data: 32, time: 22.40 minutes\n"
     ]
    },
    {
     "data": {
      "text/plain": [
       "1343.782937"
      ]
     },
     "execution_count": 46,
     "metadata": {},
     "output_type": "execute_result"
    }
   ],
   "source": [
    "model = build_model(maze)\n",
    "qtrain(model, maze, epochs=1000, max_memory=8*maze.size, data_size=32)"
   ]
  },
  {
   "cell_type": "markdown",
   "metadata": {},
   "source": [
    "This cell will check to see if the model passes the completion check. Note: This could take several minutes."
   ]
  },
  {
   "cell_type": "code",
   "execution_count": 48,
   "metadata": {},
   "outputs": [
    {
     "data": {
      "text/plain": [
       "<matplotlib.image.AxesImage at 0x280cb769308>"
      ]
     },
     "execution_count": 48,
     "metadata": {},
     "output_type": "execute_result"
    },
    {
     "data": {
      "image/png": "[encoded data removed]",
      "text/plain": [
       "<Figure size 432x288 with 1 Axes>"
      ]
     },
     "metadata": {
      "needs_background": "light"
     },
     "output_type": "display_data"
    }
   ],
   "source": [
    "completion_check(model, qmaze)\n",
    "show(qmaze)"
   ]
  },
  {
   "cell_type": "markdown",
   "metadata": {},
   "source": [
    "This cell will test your model for one game. It will start the pirate at the top-left corner and run play_game. The agent should find a path from the starting position to the target (treasure). The treasure is located in the bottom-right corner."
   ]
  },
  {
   "cell_type": "code",
   "execution_count": 50,
   "metadata": {},
   "outputs": [
    {
     "data": {
      "text/plain": [
       "<matplotlib.image.AxesImage at 0x280cafbca08>"
      ]
     },
     "execution_count": 50,
     "metadata": {},
     "output_type": "execute_result"
    },
    {
     "data": {
      "image/png": "[encoded data removed]",
      "text/plain": [
       "<Figure size 432x288 with 1 Axes>"
      ]
     },
     "metadata": {
      "needs_background": "light"
     },
     "output_type": "display_data"
    }
   ],
   "source": [
    "pirate_start = (0, 0)\n",
    "play_game(model, qmaze, pirate_start)\n",
    "show(qmaze)"
   ]
  },
  {
   "cell_type": "markdown",
   "metadata": {},
   "source": [
    "## Save and Submit Your Work\n",
    "After you have finished creating the code for your notebook, save your work. Make sure that your notebook contains your name in the filename (e.g. Doe_Jane_ProjectTwo.ipynb). This will help your instructor access and grade your work easily. Download a copy of your IPYNB file and submit it to Brightspace. Refer to the Jupyter Notebook in Apporto Tutorial if you need help with these tasks."
   ]
  },
  {
   "cell_type": "code",
   "execution_count": null,
   "metadata": {},
   "outputs": [],
   "source": []
  },
  {
   "cell_type": "code",
   "execution_count": null,
   "metadata": {},
   "outputs": [],
   "source": []
  }
 ],
 "metadata": {
  "kernelspec": {
   "display_name": "Python 3",
   "language": "python",
   "name": "python3"
  },
  "language_info": {
   "codemirror_mode": {
    "name": "ipython",
    "version": 3
   },
   "file_extension": ".py",
   "mimetype": "text/x-python",
   "name": "python",
   "nbconvert_exporter": "python",
   "pygments_lexer": "ipython3",
   "version": "3.7.4"
  }
 },
 "nbformat": 4,
 "nbformat_minor": 2
}
